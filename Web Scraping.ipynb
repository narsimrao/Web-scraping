{
 "cells": [
  {
   "cell_type": "code",
   "execution_count": 4,
   "metadata": {},
   "outputs": [],
   "source": [
    "from bs4 import BeautifulSoup as soup\n",
    "from urllib.request import urlopen as uReq\n",
    "import csv\n",
    "\n",
    "my_url=\"https://www.flipkart.com/search?q=samsung+mobiles&amp;sid=tyy%2C4io&amp;as=on&amp;as-show=on&amp;otracker=AS_QueryStore_HistoryAutoSuggest_0_2&amp;otracker1=AS_QueryStore_HistoryAutoSuggest_0_2&amp;as-pos=0&amp;as-type=HISTORY&amp;as-searchtext=sa\"\n",
    "\n",
    "uClient = uReq(my_url)\n",
    "page_html = uClient.read()\n",
    "uClient.close()\n",
    "page_soup = soup(page_html, \"html.parser\")"
   ]
  },
  {
   "cell_type": "code",
   "execution_count": 8,
   "metadata": {},
   "outputs": [
    {
     "output_type": "stream",
     "name": "stdout",
     "text": [
      "24\n"
     ]
    }
   ],
   "source": [
    "containers = page_soup.findAll(\"div\", { \"class\": \"_2kHMtA\"})\n",
    "print(len(containers))"
   ]
  },
  {
   "cell_type": "code",
   "execution_count": 9,
   "metadata": {},
   "outputs": [
    {
     "output_type": "stream",
     "name": "stdout",
     "text": [
      "SAMSUNG Galaxy F41 (Fusion Black, 128 GB)\n"
     ]
    }
   ],
   "source": [
    "container = containers[0]\n",
    "print(container.div.img[\"alt\"])"
   ]
  },
  {
   "cell_type": "code",
   "execution_count": 7,
   "metadata": {},
   "outputs": [
    {
     "output_type": "stream",
     "name": "stdout",
     "text": [
      "<div class=\"_2kHMtA\">\n <a class=\"_1fQZEK\" href=\"/samsung-galaxy-f41-fusion-black-128-gb/p/itme88b8042fe996?pid=MOBFV5PWUHRY2MZZ&amp;lid=LSTMOBFV5PWUHRY2MZZXXFGKQ&amp;marketplace=FLIPKART&amp;q=samsung+mobiles&amp;store=tyy%2F4io&amp;srno=s_1_1&amp;otracker=search&amp;fm=organic&amp;iid=63f4883d-9a46-4fcf-89b2-f912b505834f.MOBFV5PWUHRY2MZZ.SEARCH&amp;ssid=qmn4j5ikv40000001616390613942&amp;qH=0258c7d48242959a\" rel=\"noopener noreferrer\" target=\"_blank\">\n  <div class=\"MIXNux\">\n   <div class=\"_2QcLo-\">\n    <div>\n     <div class=\"CXW8mj\" style=\"height:200px;width:200px\">\n      <img alt=\"SAMSUNG Galaxy F41 (Fusion Black, 128 GB)\" class=\"_396cs4\" src=\"//static-assets-web.flixcart.com/www/linchpin/fk-cp-zion/img/placeholder_fcebae.svg\"/>\n     </div>\n    </div>\n   </div>\n   <div class=\"_3wLduG\">\n    <div class=\"_3PzNI-\">\n     <span class=\"f3A4_V\">\n      <label class=\"_2iDkf8\">\n       <input class=\"_30VH1S\" readonly=\"\" type=\"checkbox\"/>\n       <div class=\"_24_Dny\">\n       </div>\n      </label>\n     </span>\n     <label class=\"_6Up2sF\">\n      <span>\n       Add to Compare\n      </span>\n     </label>\n    </div>\n   </div>\n   <div class=\"_2hVSre _3nq8ih\">\n    <div class=\"_36FSn5\">\n     <svg class=\"_1l0elc\" height=\"16\" viewbox=\"0 0 20 16\" width=\"16\" xmlns=\"http://www.w3.org/2000/svg\">\n      <path class=\"eX72wL\" d=\"M8.695 16.682C4.06 12.382 1 9.536 1 6.065 1 3.219 3.178 1 5.95 1c1.566 0 3.069.746 4.05 1.915C10.981 1.745 12.484 1 14.05 1 16.822 1 19 3.22 19 6.065c0 3.471-3.06 6.316-7.695 10.617L10 17.897l-1.305-1.215z\" fill=\"#2874F0\" fill-rule=\"evenodd\" opacity=\".9\" stroke=\"#FFF\">\n      </path>\n     </svg>\n    </div>\n   </div>\n  </div>\n  <div class=\"_3pLy-c row\">\n   <div class=\"col col-7-12\">\n    <div class=\"_4rR01T\">\n     SAMSUNG Galaxy F41 (Fusion Black, 128 GB)\n    </div>\n    <div class=\"gUuXy-\">\n     <span class=\"_1lRcqv\" id=\"productRating_LSTMOBFV5PWUHRY2MZZXXFGKQ_MOBFV5PWUHRY2MZZ_\">\n      <div class=\"_3LWZlK\">\n       4.3\n       <img class=\"_1wB99o\" src=\"data:image/svg+xml;base64,PHN2ZyB4bWxucz0iaHR0cDovL3d3dy53My5vcmcvMjAwMC9zdmciIHdpZHRoPSIxMyIgaGVpZ2h0PSIxMiI+PHBhdGggZmlsbD0iI0ZGRiIgZD0iTTYuNSA5LjQzOWwtMy42NzQgMi4yMy45NC00LjI2LTMuMjEtMi44ODMgNC4yNTQtLjQwNEw2LjUuMTEybDEuNjkgNC4wMSA0LjI1NC40MDQtMy4yMSAyLjg4Mi45NCA0LjI2eiIvPjwvc3ZnPg==\"/>\n      </div>\n     </span>\n     <span class=\"_2_R_DZ\">\n      <span>\n       <span>\n        2,41,203 Ratings\n       </span>\n       <span class=\"_13vcmD\">\n        &amp;\n       </span>\n       <span>\n        28,887 Reviews\n       </span>\n      </span>\n     </span>\n    </div>\n    <div class=\"fMghEO\">\n     <ul class=\"_1xgFaf\">\n      <li class=\"rgWa7D\">\n       6 GB RAM | 128 GB ROM | Expandable Upto 512 GB\n      </li>\n      <li class=\"rgWa7D\">\n       16.26 cm (6.4 inch) Full HD+ Display\n      </li>\n      <li class=\"rgWa7D\">\n       64MP + 8MP + 5MP | 32MP Front Camera\n      </li>\n      <li class=\"rgWa7D\">\n       6000 mAh Lithium-ion Battery\n      </li>\n      <li class=\"rgWa7D\">\n       Exynos 9611 Processor\n      </li>\n      <li class=\"rgWa7D\">\n       Super AMOLED Display\n      </li>\n      <li class=\"rgWa7D\">\n       1 Year Warranty Provided by the Manufacturer from Date of Purchase\n      </li>\n     </ul>\n    </div>\n   </div>\n   <div class=\"col col-5-12 nlI3QM\">\n    <div class=\"_3tbKJL\">\n     <div class=\"_25b18c\">\n      <div class=\"_30jeq3 _1_WHN1\">\n       ₹16,499\n      </div>\n      <div class=\"_3I9_wc _27UcVY\">\n       ₹\n       <!-- -->\n       20,999\n      </div>\n      <div class=\"_3Ay6Sb\">\n       <span>\n        21% off\n       </span>\n      </div>\n     </div>\n    </div>\n    <div class=\"_13J9qT\">\n     <img height=\"21\" src=\"//static-assets-web.flixcart.com/www/linchpin/fk-cp-zion/img/fa_62673a.png\"/>\n    </div>\n    <div class=\"_2ZdXDB\">\n     <div class=\"_18hQoS\" style=\"color:#000000;font-size:12px;font-family:inherit;font-weight:normal\">\n      No Cost EMI\n     </div>\n    </div>\n    <div class=\"_2ZdXDB\">\n     <div class=\"_18hQoS\" style=\"color:#000000;font-size:14px;font-family:inherit;font-weight:normal\">\n      Get by\n     </div>\n     <div class=\"_18hQoS\" style=\"color:#000000;font-size:14px;font-family:inherit;font-weight:bold\">\n      11 PM, Today\n     </div>\n    </div>\n   </div>\n  </div>\n </a>\n</div>\n"
     ]
    }
   ],
   "source": [
    "print(soup.prettify(containers[0]))"
   ]
  },
  {
   "cell_type": "code",
   "execution_count": 10,
   "metadata": {},
   "outputs": [
    {
     "output_type": "stream",
     "name": "stdout",
     "text": [
      "₹16,499\n"
     ]
    }
   ],
   "source": [
    "price = container.findAll(\"div\", {\"class\": \"_30jeq3 _1_WHN1\"})\n",
    "print(price[0].text)"
   ]
  },
  {
   "cell_type": "code",
   "execution_count": 11,
   "metadata": {},
   "outputs": [
    {
     "output_type": "stream",
     "name": "stdout",
     "text": [
      "4.3\n"
     ]
    }
   ],
   "source": [
    "ratings = container.findAll(\"div\", {\"class\": \"_3LWZlK\"})\n",
    "print(ratings[0].text)"
   ]
  },
  {
   "cell_type": "code",
   "execution_count": 12,
   "metadata": {},
   "outputs": [
    {
     "output_type": "execute_result",
     "data": {
      "text/plain": [
       "32"
      ]
     },
     "metadata": {},
     "execution_count": 12
    }
   ],
   "source": [
    "filename = \"products.csv\"\n",
    "f = open(filename, \"w\")\n",
    "headers = \"Product_Name, Pricing, Ratings \\n\"\n",
    "f.write(headers)"
   ]
  },
  {
   "cell_type": "code",
   "execution_count": 20,
   "metadata": {},
   "outputs": [],
   "source": [
    "with open(filename,\"w\",encoding=\"utf-8\") as file:\n",
    "    writer = csv.writer(file)\n",
    "    writer.writerow([\"Product_Name\", \"Pricing\", \"Ratings\"])\n",
    "    for container in containers:\n",
    "        product_name = container.div.img[\"alt\"]\n",
    "        price_container = container.findAll(\"div\", {\"class\": \"_30jeq3 _1_WHN1\"})\n",
    "        price = price_container[0].text.strip()\n",
    "\n",
    "        rating_container = container.findAll(\"div\", {\"class\": \"_3LWZlK\"})\n",
    "        rating = rating_container[0].text\n",
    "        writer.writerow([str(product_name),str(price[1:]),str(rating)])"
   ]
  }
 ],
 "metadata": {
  "kernelspec": {
   "display_name": "Python 3",
   "language": "python",
   "name": "python3"
  },
  "language_info": {
   "codemirror_mode": {
    "name": "ipython",
    "version": 3
   },
   "file_extension": ".py",
   "mimetype": "text/x-python",
   "name": "python",
   "nbconvert_exporter": "python",
   "pygments_lexer": "ipython3",
   "version": "3.7.0-final"
  }
 },
 "nbformat": 4,
 "nbformat_minor": 2
}